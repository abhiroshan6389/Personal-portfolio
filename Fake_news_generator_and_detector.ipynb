{
  "nbformat": 4,
  "nbformat_minor": 0,
  "metadata": {
    "colab": {
      "provenance": [],
      "authorship_tag": "ABX9TyOG3WJmo3mZRrwo6WkwsCCq",
      "include_colab_link": true
    },
    "kernelspec": {
      "name": "python3",
      "display_name": "Python 3"
    },
    "language_info": {
      "name": "python"
    }
  },
  "cells": [
    {
      "cell_type": "markdown",
      "metadata": {
        "id": "view-in-github",
        "colab_type": "text"
      },
      "source": [
        "<a href=\"https://colab.research.google.com/github/abhiroshan6389/Personal-portfolio/blob/main/Fake_news_generator_and_detector.ipynb\" target=\"_parent\"><img src=\"https://colab.research.google.com/assets/colab-badge.svg\" alt=\"Open In Colab\"/></a>"
      ]
    },
    {
      "cell_type": "code",
      "source": [
        "!pip install -q transformers torch gradio"
      ],
      "metadata": {
        "id": "Abb8TnLXFeL2"
      },
      "execution_count": null,
      "outputs": []
    },
    {
      "cell_type": "code",
      "execution_count": null,
      "metadata": {
        "colab": {
          "base_uri": "https://localhost:8080/",
          "height": 645
        },
        "id": "_-A6wOnhFOw_",
        "outputId": "82352d69-139a-406c-fb62-396f4aab65af"
      },
      "outputs": [
        {
          "output_type": "stream",
          "name": "stderr",
          "text": [
            "Some weights of BertForSequenceClassification were not initialized from the model checkpoint at bert-base-uncased and are newly initialized: ['classifier.bias', 'classifier.weight']\n",
            "You should probably TRAIN this model on a down-stream task to be able to use it for predictions and inference.\n"
          ]
        },
        {
          "output_type": "stream",
          "name": "stdout",
          "text": [
            "Colab notebook detected. To show errors in colab notebook, set debug=True in launch()\n",
            "* Running on public URL: https://731ab0ed4f71470491.gradio.live\n",
            "\n",
            "This share link expires in 1 week. For free permanent hosting and GPU upgrades, run `gradio deploy` from the terminal in the working directory to deploy to Hugging Face Spaces (https://huggingface.co/spaces)\n"
          ]
        },
        {
          "output_type": "display_data",
          "data": {
            "text/plain": [
              "<IPython.core.display.HTML object>"
            ],
            "text/html": [
              "<div><iframe src=\"https://731ab0ed4f71470491.gradio.live\" width=\"100%\" height=\"500\" allow=\"autoplay; camera; microphone; clipboard-read; clipboard-write;\" frameborder=\"0\" allowfullscreen></iframe></div>"
            ]
          },
          "metadata": {}
        },
        {
          "output_type": "execute_result",
          "data": {
            "text/plain": []
          },
          "metadata": {},
          "execution_count": 6
        }
      ],
      "source": [
        "\n",
        "import torch\n",
        "from transformers import GPT2LMHeadModel, GPT2Tokenizer\n",
        "from transformers import AutoTokenizer, AutoModelForSequenceClassification\n",
        "import gradio as gr\n",
        "\n",
        "\n",
        "# ✅ Check device\n",
        "device = torch.device(\"cuda\" if torch.cuda.is_available() else \"cpu\")\n",
        "\n",
        "# ✅ Load Models\n",
        "gpt2_tokenizer = GPT2Tokenizer.from_pretrained(\"gpt2\")\n",
        "gpt2_model = GPT2LMHeadModel.from_pretrained(\"gpt2\").to(device)\n",
        "\n",
        "bert_tokenizer = AutoTokenizer.from_pretrained(\"bert-base-uncased\")\n",
        "bert_model = AutoModelForSequenceClassification.from_pretrained(\n",
        "    \"bert-base-uncased\", num_labels=2\n",
        ").to(device)\n",
        "\n",
        "\n",
        "# ✅ Generate Fake News\n",
        "def generate_fake_news(prompt):\n",
        "    inputs = gpt2_tokenizer.encode(prompt, return_tensors=\"pt\").to(device)\n",
        "    outputs = gpt2_model.generate(\n",
        "        inputs,\n",
        "        max_length=200,\n",
        "        num_return_sequences=1,\n",
        "        no_repeat_ngram_size=2,\n",
        "        do_sample=True,\n",
        "        temperature=0.7,\n",
        "        top_k=50,\n",
        "        top_p=0.95,\n",
        "        early_stopping=True\n",
        "    )\n",
        "    generated_text = gpt2_tokenizer.decode(outputs[0], skip_special_tokens=True)\n",
        "    return generated_text\n",
        "\n",
        "\n",
        "# ✅ Detect Fake or Real News\n",
        "def detect_news(text):\n",
        "    inputs = bert_tokenizer(text, return_tensors=\"pt\", truncation=True, padding=True).to(device)\n",
        "    with torch.no_grad():\n",
        "        outputs = bert_model(**inputs)\n",
        "    logits = outputs.logits\n",
        "    predicted_class = torch.argmax(logits, dim=1).item()\n",
        "    confidence = torch.softmax(logits, dim=1)[0][predicted_class].item()\n",
        "    label = \"🟥 Fake News\" if predicted_class == 0 else \"🟩 Real News\"\n",
        "    return f\"{label} (Confidence: {confidence:.2f})\"\n",
        "\n",
        "\n",
        "# ✅ Gradio UI with Responsive Layout + Styling\n",
        "with gr.Blocks(css=\"\"\"\n",
        "    body { background: #f9fafb; }\n",
        "    .gradio-container { max-width: 900px !important; margin: auto; }\n",
        "    .tab-label { font-size: 18px; font-weight: bold; }\n",
        "    textarea { font-size: 15px !important; }\n",
        "\"\"\") as demo:\n",
        "\n",
        "    gr.Markdown(\"<h1 style='text-align:center;'>📰 Fake News Generator & Detector</h1>\")\n",
        "    gr.Markdown(\"<p style='text-align:center;'>Powered by GPT-2 (Generation) + BERT (Classification)</p>\")\n",
        "\n",
        "    with gr.Tab(\"🛠️ Generate Fake News\"):\n",
        "        with gr.Row():\n",
        "            with gr.Column(scale=1):\n",
        "                input_text = gr.Textbox(\n",
        "                    label=\"Enter a News Headline or Prompt\",\n",
        "                    placeholder=\"e.g. A mysterious object was spotted in the sky...\",\n",
        "                    lines=2\n",
        "                )\n",
        "                generate_btn = gr.Button(\"🚀 Generate\", elem_classes=\"btn-primary\")\n",
        "            with gr.Column(scale=1):\n",
        "                output_text = gr.Textbox(label=\"Generated News Article\", lines=10)\n",
        "\n",
        "        generate_btn.click(generate_fake_news, inputs=input_text, outputs=output_text)\n",
        "\n",
        "    with gr.Tab(\"🔍 Detect Fake or Real\"):\n",
        "        with gr.Row():\n",
        "            with gr.Column(scale=1):\n",
        "                detect_input = gr.Textbox(\n",
        "                    label=\"Enter a News Article or Statement\",\n",
        "                    placeholder=\"Paste a paragraph to detect if it's fake or real...\",\n",
        "                    lines=5\n",
        "                )\n",
        "                detect_btn = gr.Button(\"🔍 Detect\", elem_classes=\"btn-primary\")\n",
        "            with gr.Column(scale=1):\n",
        "                detect_output = gr.Textbox(label=\"Detection Result\", lines=2)\n",
        "\n",
        "        detect_btn.click(detect_news, inputs=detect_input, outputs=detect_output)\n",
        "\n",
        "# ✅ Launch App\n",
        "demo.launch(share=True)\n"
      ]
    }
  ]
}